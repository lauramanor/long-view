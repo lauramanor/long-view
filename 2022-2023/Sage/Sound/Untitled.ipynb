{
 "cells": [
  {
   "cell_type": "code",
   "execution_count": 2,
   "id": "cec04ef3",
   "metadata": {},
   "outputs": [
    {
     "ename": "ModuleNotFoundError",
     "evalue": "No module named 'wavio'",
     "output_type": "error",
     "traceback": [
      "\u001b[1;31m---------------------------------------------------------------------------\u001b[0m",
      "\u001b[1;31mModuleNotFoundError\u001b[0m                       Traceback (most recent call last)",
      "\u001b[1;32m<ipython-input-2-4fe11289b354>\u001b[0m in \u001b[0;36m<module>\u001b[1;34m\u001b[0m\n\u001b[0;32m     13\u001b[0m \u001b[1;31m# to listen to the sound\u001b[0m\u001b[1;33m\u001b[0m\u001b[1;33m\u001b[0m\u001b[1;33m\u001b[0m\u001b[0m\n\u001b[0;32m     14\u001b[0m \u001b[1;32mimport\u001b[0m \u001b[0mnumpy\u001b[0m \u001b[1;32mas\u001b[0m \u001b[0mnp\u001b[0m\u001b[1;33m\u001b[0m\u001b[1;33m\u001b[0m\u001b[0m\n\u001b[1;32m---> 15\u001b[1;33m \u001b[1;32mimport\u001b[0m \u001b[0mwavio\u001b[0m\u001b[1;33m\u001b[0m\u001b[1;33m\u001b[0m\u001b[0m\n\u001b[0m\u001b[0;32m     16\u001b[0m \u001b[1;31m# Parameters\u001b[0m\u001b[1;33m\u001b[0m\u001b[1;33m\u001b[0m\u001b[1;33m\u001b[0m\u001b[0m\n\u001b[0;32m     17\u001b[0m \u001b[0mrate\u001b[0m \u001b[1;33m=\u001b[0m \u001b[1;36m44100\u001b[0m    \u001b[1;31m# samples per second\u001b[0m\u001b[1;33m\u001b[0m\u001b[1;33m\u001b[0m\u001b[0m\n",
      "\u001b[1;31mModuleNotFoundError\u001b[0m: No module named 'wavio'"
     ]
    }
   ],
   "source": [
    "# Source: https://pypi.org/project/wavio/\n",
    "# File: gen_sound.py\n",
    "# Run \n",
    "#\n",
    "#   $ python gen_sound.py\n",
    "#\n",
    "# to create the file `sine440.py\n",
    "#\n",
    "# Then run (for example on Mac OS)\n",
    "#\n",
    "#   $ afplay sine.wav\n",
    "#\n",
    "# to listen to the sound\n",
    "import numpy as np\n",
    "import wavio\n",
    "# Parameters\n",
    "rate = 44100    # samples per second\n",
    "T = 3           # sample duration (seconds)\n",
    "f = 440.0       # sound frequency (Hz)\n",
    "# Compute waveform samples\n",
    "t = np.linspace(0, T, T*rate, endpoint=False)\n",
    "x = np.sin(2*np.pi * f * t)\n",
    "# Write the samples to a file\n",
    "wavio.write(\"sine-440.wav\", x, rate, sampwidth=3)"
   ]
  },
  {
   "cell_type": "code",
   "execution_count": null,
   "id": "5714568c",
   "metadata": {},
   "outputs": [],
   "source": []
  }
 ],
 "metadata": {
  "kernelspec": {
   "display_name": "Python 3",
   "language": "python",
   "name": "python3"
  },
  "language_info": {
   "codemirror_mode": {
    "name": "ipython",
    "version": 3
   },
   "file_extension": ".py",
   "mimetype": "text/x-python",
   "name": "python",
   "nbconvert_exporter": "python",
   "pygments_lexer": "ipython3",
   "version": "3.8.8"
  }
 },
 "nbformat": 4,
 "nbformat_minor": 5
}
