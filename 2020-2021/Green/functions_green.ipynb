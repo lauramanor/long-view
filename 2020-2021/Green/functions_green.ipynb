{
 "cells": [
  {
   "cell_type": "markdown",
   "metadata": {},
   "source": [
    "# Built-in Functions\n",
    "\n",
    "What are some functions that we have already used?"
   ]
  },
  {
   "cell_type": "code",
   "execution_count": 3,
   "metadata": {},
   "outputs": [
    {
     "data": {
      "text/plain": [
       "10"
      ]
     },
     "execution_count": 3,
     "metadata": {},
     "output_type": "execute_result"
    }
   ],
   "source": [
    "\n",
    "\n"
   ]
  },
  {
   "cell_type": "markdown",
   "metadata": {},
   "source": [
    "# Creating your own Python Functions"
   ]
  },
  {
   "cell_type": "code",
   "execution_count": 8,
   "metadata": {},
   "outputs": [],
   "source": [
    "def absolute_value(number):  \n",
    "    \"\"\" function takes a number as input\n",
    "        and returns the absolute value that number\"\"\"\n",
    "    if number >= 0:    # function body starts here\n",
    "        return number\n",
    "    else:\n",
    "        return -number   # function body ends here"
   ]
  },
  {
   "cell_type": "markdown",
   "metadata": {},
   "source": [
    "The first line in a function definition specifies the name of the function and the arguments of the function. It should look like\n",
    "\n",
    "`def «function-name»(«argument-list»):`\n",
    "\n",
    "In the example above, `absolute_value` was the function name, and the argument list was `number`. It is called an argument list because there can be multiple arguments such as `x, y, z`; it's also possible to have zero arguments, i.e. an empty list. The arguments are the **input(s)** to the function.\n",
    "\n",
    "Everything after the first line of a function definition is the **body** of the function. The body is an indented block of code. Whenever the function is called, the body is executed on those arguments/inputs. Finally, when we reach this line in the function body,\n",
    "\n",
    "`    return «value»`\n",
    "\n",
    "To make the function actually do something, we have to **call** the function. We call functions that we created the same way we call built-in functions!"
   ]
  },
  {
   "cell_type": "code",
   "execution_count": null,
   "metadata": {},
   "outputs": [],
   "source": []
  }
 ],
 "metadata": {
  "kernelspec": {
   "display_name": "Python 3",
   "language": "python",
   "name": "python3"
  },
  "language_info": {
   "codemirror_mode": {
    "name": "ipython",
    "version": 3
   },
   "file_extension": ".py",
   "mimetype": "text/x-python",
   "name": "python",
   "nbconvert_exporter": "python",
   "pygments_lexer": "ipython3",
   "version": "3.8.5"
  }
 },
 "nbformat": 4,
 "nbformat_minor": 4
}
