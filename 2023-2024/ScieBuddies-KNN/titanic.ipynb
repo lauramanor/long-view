{
 "cells": [
  {
   "cell_type": "markdown",
   "metadata": {
    "id": "EgHhrHRvonkt"
   },
   "source": [
    "#**[Can AI Predict Who Survived the Titanic's Sinking?](https://www.sciencebuddies.org/science-fair-projects/project_ideas/ArtificialIntelligence_p009/artificial-intelligence/KNN-titanic-survivor)**\n",
    "\n",
    "This notebook was developed by Science Buddies [www.sciencebuddies.org](https://www.sciencebuddies.org/) as part of a science project to allow students to explore and learn about artificial intelligence. For personal use, this notebook can be downloaded and modified with attribution. For all other uses, please see our [Terms and Conditions of Fair Use](https://www.sciencebuddies.org/about/terms-and-conditions-of-fair-use).  \n",
    "\n",
    "**Troubleshooting tips**\n",
    "*   Read the written instructions at Science Buddies and the text and comments on this page carefully.\n",
    "*   If you make changes that break the code, you can download a fresh copy of this notebook and start over.\n",
    "\n",
    "*   If you are using this notebook for a science project and need help, visit our [Ask an Expert](https://www.sciencebuddies.org/science-fair-projects/ask-an-expert-intro) forum for assistance."
   ]
  },
  {
   "cell_type": "markdown",
   "metadata": {
    "id": "1aDLuwPGo6Yj"
   },
   "source": [
    "## **How To Use This Notebook**\n",
    "\n",
    "This notebook contains text fields, like this one, that give you information about the project and instructions."
   ]
  },
  {
   "cell_type": "code",
   "execution_count": 1,
   "metadata": {
    "id": "rzgeyX6Ao87B"
   },
   "outputs": [
    {
     "name": "stdout",
     "output_type": "stream",
     "text": [
      "Congratulations, you ran a code block! Try changing the text in the code and running it again.\n"
     ]
    }
   ],
   "source": [
    "# There are also code blocks, like this one.\n",
    "\n",
    "# The green text in a code block are comments. Comments are descriptions of what the code does.\n",
    "\n",
    "# The non-green text in a code block is the Python code. Click on the triangle in the top left corner to run this code block.\n",
    "\n",
    "print(\"Congratulations, you ran a code block! Try changing the text in the code and running it again.\")"
   ]
  },
  {
   "cell_type": "markdown",
   "metadata": {
    "id": "1fzxCwdwpBS1"
   },
   "source": [
    "##**Importing Libraries**\n",
    "We will start this science project by importing some necessary libraries. These libraries contain functions that we will be using to create and display our maze. The comments tell you what each libary is for."
   ]
  },
  {
   "cell_type": "code",
   "execution_count": 2,
   "metadata": {
    "id": "Wukva3MQpEoA"
   },
   "outputs": [
    {
     "name": "stdout",
     "output_type": "stream",
     "text": [
      "You have imported all the libraries\n"
     ]
    }
   ],
   "source": [
    "# The pandas library allows us to work with data like spreadsheets.\n",
    "# It helps us organize, clean, and analyze data easily\n",
    "import pandas as pd\n",
    "\n",
    "# This function helps us convert categorical data into numerical values.\n",
    "# It assigns a unique integer to each category, making it suitable for many algorithms that require numerical input\n",
    "from sklearn.preprocessing import LabelEncoder\n",
    "\n",
    "# We often want to test how well our \"smart\" programs work.\n",
    "# This library helps us split our data into parts: one for teaching the program and another for testing it.\n",
    "from sklearn.model_selection import train_test_split\n",
    "\n",
    "# A machine learning algorithm used for classification tasks. It makes predictions based on the majority class\n",
    "# among its k-nearest neighbors in the feature space.\n",
    "from sklearn.neighbors import KNeighborsClassifier\n",
    "\n",
    "# A metric used to evaluate the performance of classification models by measuring the proportion of correctly\n",
    "# predicted instances in the total instances\n",
    "from sklearn.metrics import accuracy_score\n",
    "\n",
    "# For doing math and working with numbers, this library is like a super calculator.\n",
    "# It's great for handling big sets of numbers and doing fancy math operations.\n",
    "import numpy as np\n",
    "\n",
    "# When we want to draw graphs and charts to show our data visually, we use this.\n",
    "# It helps us see patterns and trends in the data.\n",
    "import matplotlib.pyplot as plt\n",
    "\n",
    "# Imagine you have a lot of information about people, like their height, weight, age, etc.\n",
    "# Sometimes there's too much information, and we use this to simplify it while keeping the important stuff\n",
    "from sklearn.decomposition import PCA\n",
    "\n",
    "print(\"You have imported all the libraries\")"
   ]
  },
  {
   "cell_type": "markdown",
   "metadata": {
    "id": "XJ1XTONGKTmf"
   },
   "source": [
    "## Loading the Data into a Pandas Dataframe"
   ]
  },
  {
   "cell_type": "code",
   "execution_count": 3,
   "metadata": {
    "id": "0wbaop9P1W1O"
   },
   "outputs": [],
   "source": [
    "# Load the CSV file into a pandas DataFrame\n",
    "data = pd.read_csv(\"https://www.sciencebuddies.org/ai/colab/titanic.csv?t=AQX1iBGMHO29cX9umS5P6VLF-rg7jl-7K2RYrVD23rGwcg\")"
   ]
  },
  {
   "cell_type": "code",
   "execution_count": 4,
   "metadata": {
    "id": "ybeEMQN-2GH3"
   },
   "outputs": [
    {
     "data": {
      "text/html": [
       "<div>\n",
       "<style scoped>\n",
       "    .dataframe tbody tr th:only-of-type {\n",
       "        vertical-align: middle;\n",
       "    }\n",
       "\n",
       "    .dataframe tbody tr th {\n",
       "        vertical-align: top;\n",
       "    }\n",
       "\n",
       "    .dataframe thead th {\n",
       "        text-align: right;\n",
       "    }\n",
       "</style>\n",
       "<table border=\"1\" class=\"dataframe\">\n",
       "  <thead>\n",
       "    <tr style=\"text-align: right;\">\n",
       "      <th></th>\n",
       "      <th>PassengerId</th>\n",
       "      <th>Survived</th>\n",
       "      <th>Pclass</th>\n",
       "      <th>Name</th>\n",
       "      <th>Sex</th>\n",
       "      <th>Age</th>\n",
       "      <th>SibSp</th>\n",
       "      <th>Parch</th>\n",
       "      <th>Ticket</th>\n",
       "      <th>Fare</th>\n",
       "      <th>Cabin</th>\n",
       "      <th>Embarked</th>\n",
       "    </tr>\n",
       "  </thead>\n",
       "  <tbody>\n",
       "    <tr>\n",
       "      <th>0</th>\n",
       "      <td>1</td>\n",
       "      <td>0</td>\n",
       "      <td>3</td>\n",
       "      <td>Braund, Mr. Owen Harris</td>\n",
       "      <td>male</td>\n",
       "      <td>22.0</td>\n",
       "      <td>1</td>\n",
       "      <td>0</td>\n",
       "      <td>A/5 21171</td>\n",
       "      <td>7.2500</td>\n",
       "      <td>NaN</td>\n",
       "      <td>S</td>\n",
       "    </tr>\n",
       "    <tr>\n",
       "      <th>1</th>\n",
       "      <td>2</td>\n",
       "      <td>1</td>\n",
       "      <td>1</td>\n",
       "      <td>Cumings, Mrs. John Bradley (Florence Briggs Th...</td>\n",
       "      <td>female</td>\n",
       "      <td>38.0</td>\n",
       "      <td>1</td>\n",
       "      <td>0</td>\n",
       "      <td>PC 17599</td>\n",
       "      <td>71.2833</td>\n",
       "      <td>C85</td>\n",
       "      <td>C</td>\n",
       "    </tr>\n",
       "    <tr>\n",
       "      <th>2</th>\n",
       "      <td>3</td>\n",
       "      <td>1</td>\n",
       "      <td>3</td>\n",
       "      <td>Heikkinen, Miss. Laina</td>\n",
       "      <td>female</td>\n",
       "      <td>26.0</td>\n",
       "      <td>0</td>\n",
       "      <td>0</td>\n",
       "      <td>STON/O2. 3101282</td>\n",
       "      <td>7.9250</td>\n",
       "      <td>NaN</td>\n",
       "      <td>S</td>\n",
       "    </tr>\n",
       "    <tr>\n",
       "      <th>3</th>\n",
       "      <td>4</td>\n",
       "      <td>1</td>\n",
       "      <td>1</td>\n",
       "      <td>Futrelle, Mrs. Jacques Heath (Lily May Peel)</td>\n",
       "      <td>female</td>\n",
       "      <td>35.0</td>\n",
       "      <td>1</td>\n",
       "      <td>0</td>\n",
       "      <td>113803</td>\n",
       "      <td>53.1000</td>\n",
       "      <td>C123</td>\n",
       "      <td>S</td>\n",
       "    </tr>\n",
       "    <tr>\n",
       "      <th>4</th>\n",
       "      <td>5</td>\n",
       "      <td>0</td>\n",
       "      <td>3</td>\n",
       "      <td>Allen, Mr. William Henry</td>\n",
       "      <td>male</td>\n",
       "      <td>35.0</td>\n",
       "      <td>0</td>\n",
       "      <td>0</td>\n",
       "      <td>373450</td>\n",
       "      <td>8.0500</td>\n",
       "      <td>NaN</td>\n",
       "      <td>S</td>\n",
       "    </tr>\n",
       "  </tbody>\n",
       "</table>\n",
       "</div>"
      ],
      "text/plain": [
       "   PassengerId  Survived  Pclass  \\\n",
       "0            1         0       3   \n",
       "1            2         1       1   \n",
       "2            3         1       3   \n",
       "3            4         1       1   \n",
       "4            5         0       3   \n",
       "\n",
       "                                                Name     Sex   Age  SibSp  \\\n",
       "0                            Braund, Mr. Owen Harris    male  22.0      1   \n",
       "1  Cumings, Mrs. John Bradley (Florence Briggs Th...  female  38.0      1   \n",
       "2                             Heikkinen, Miss. Laina  female  26.0      0   \n",
       "3       Futrelle, Mrs. Jacques Heath (Lily May Peel)  female  35.0      1   \n",
       "4                           Allen, Mr. William Henry    male  35.0      0   \n",
       "\n",
       "   Parch            Ticket     Fare Cabin Embarked  \n",
       "0      0         A/5 21171   7.2500   NaN        S  \n",
       "1      0          PC 17599  71.2833   C85        C  \n",
       "2      0  STON/O2. 3101282   7.9250   NaN        S  \n",
       "3      0            113803  53.1000  C123        S  \n",
       "4      0            373450   8.0500   NaN        S  "
      ]
     },
     "execution_count": 4,
     "metadata": {},
     "output_type": "execute_result"
    }
   ],
   "source": [
    "# We can see what the data frame looks like by using the head function\n",
    "data.head()"
   ]
  },
  {
   "cell_type": "code",
   "execution_count": 5,
   "metadata": {
    "id": "ZZpyMoq-2ptr"
   },
   "outputs": [
    {
     "data": {
      "text/plain": [
       "array([0, 1], dtype=int64)"
      ]
     },
     "execution_count": 5,
     "metadata": {},
     "output_type": "execute_result"
    }
   ],
   "source": [
    "# We can see the unique values of each column by using the unique() function\n",
    "data['Survived'].unique()\n",
    "\n",
    "# Try testing this out with different columns!\n"
   ]
  },
  {
   "cell_type": "markdown",
   "metadata": {
    "id": "dJQZ5DkgkiH2"
   },
   "source": [
    "## Preprocessing the Dataset"
   ]
  },
  {
   "cell_type": "markdown",
   "metadata": {
    "id": "PLa_dBQn3CzI"
   },
   "source": [
    "We will first drop features that we think will be uninformative for modeling. In our case, we will be dropping passenger ID, name, ticket number, and cabin information. These features do not provide meaningful insights, as passenger ID is often just a unique identifier without any inherent significance in the context of analysis. Similarly, name, ticket number, and cabin information doesn't have a clear relationship as to whether a passenger survived or not, so it might be considered irrelavant or redundant."
   ]
  },
  {
   "cell_type": "code",
   "execution_count": 6,
   "metadata": {
    "id": "UtKte_ih2yRx"
   },
   "outputs": [
    {
     "data": {
      "text/html": [
       "<div>\n",
       "<style scoped>\n",
       "    .dataframe tbody tr th:only-of-type {\n",
       "        vertical-align: middle;\n",
       "    }\n",
       "\n",
       "    .dataframe tbody tr th {\n",
       "        vertical-align: top;\n",
       "    }\n",
       "\n",
       "    .dataframe thead th {\n",
       "        text-align: right;\n",
       "    }\n",
       "</style>\n",
       "<table border=\"1\" class=\"dataframe\">\n",
       "  <thead>\n",
       "    <tr style=\"text-align: right;\">\n",
       "      <th></th>\n",
       "      <th>Survived</th>\n",
       "      <th>Pclass</th>\n",
       "      <th>Sex</th>\n",
       "      <th>Age</th>\n",
       "      <th>SibSp</th>\n",
       "      <th>Parch</th>\n",
       "      <th>Fare</th>\n",
       "    </tr>\n",
       "  </thead>\n",
       "  <tbody>\n",
       "    <tr>\n",
       "      <th>0</th>\n",
       "      <td>0</td>\n",
       "      <td>3</td>\n",
       "      <td>male</td>\n",
       "      <td>22.0</td>\n",
       "      <td>1</td>\n",
       "      <td>0</td>\n",
       "      <td>7.2500</td>\n",
       "    </tr>\n",
       "    <tr>\n",
       "      <th>1</th>\n",
       "      <td>1</td>\n",
       "      <td>1</td>\n",
       "      <td>female</td>\n",
       "      <td>38.0</td>\n",
       "      <td>1</td>\n",
       "      <td>0</td>\n",
       "      <td>71.2833</td>\n",
       "    </tr>\n",
       "    <tr>\n",
       "      <th>2</th>\n",
       "      <td>1</td>\n",
       "      <td>3</td>\n",
       "      <td>female</td>\n",
       "      <td>26.0</td>\n",
       "      <td>0</td>\n",
       "      <td>0</td>\n",
       "      <td>7.9250</td>\n",
       "    </tr>\n",
       "    <tr>\n",
       "      <th>3</th>\n",
       "      <td>1</td>\n",
       "      <td>1</td>\n",
       "      <td>female</td>\n",
       "      <td>35.0</td>\n",
       "      <td>1</td>\n",
       "      <td>0</td>\n",
       "      <td>53.1000</td>\n",
       "    </tr>\n",
       "    <tr>\n",
       "      <th>4</th>\n",
       "      <td>0</td>\n",
       "      <td>3</td>\n",
       "      <td>male</td>\n",
       "      <td>35.0</td>\n",
       "      <td>0</td>\n",
       "      <td>0</td>\n",
       "      <td>8.0500</td>\n",
       "    </tr>\n",
       "  </tbody>\n",
       "</table>\n",
       "</div>"
      ],
      "text/plain": [
       "   Survived  Pclass     Sex   Age  SibSp  Parch     Fare\n",
       "0         0       3    male  22.0      1      0   7.2500\n",
       "1         1       1  female  38.0      1      0  71.2833\n",
       "2         1       3  female  26.0      0      0   7.9250\n",
       "3         1       1  female  35.0      1      0  53.1000\n",
       "4         0       3    male  35.0      0      0   8.0500"
      ]
     },
     "execution_count": 6,
     "metadata": {},
     "output_type": "execute_result"
    }
   ],
   "source": [
    "# List the columns that you want to drop, this would be Name, Ticket, Cabin, and Embarked\n",
    "columns_to_drop = ['PassengerId', 'Name', 'Ticket', 'Cabin', 'Embarked'] # Add in the rest of the features\n",
    "\n",
    "# Drop the specified columns\n",
    "data.drop(columns=columns_to_drop, inplace=True)\n",
    "\n",
    "# Let's check if our specified columns are no longer there!\n",
    "data.head()"
   ]
  },
  {
   "cell_type": "markdown",
   "metadata": {
    "id": "8VK9opqi6BhA"
   },
   "source": [
    "Since KNN is a distance-based algorithm, it is crucial to normalize or scale the features to ensure that all features contribute equally to the distance calculations. Learn more about data scaling [here](https://www.youtube.com/watch?v=n9KeJLGwW0U)."
   ]
  },
  {
   "cell_type": "code",
   "execution_count": 7,
   "metadata": {
    "id": "bbJLORxz6SuI"
   },
   "outputs": [],
   "source": [
    "# We will be scaling our numerical variables, which in this case would be Age, SibSp, Parch, and Fare\n",
    "\n",
    "# Identify the numerical feature columns you want to normalize\n",
    "numerical_columns = ['Age', 'SibSp', 'Parch', 'Fare'] # Add in the rest of the features\n",
    "\n",
    "# Make sure to type the column names exactly as given in the dataframe above\n",
    "\n",
    "# Apply min-max scaling to the selected numerical feature columns\n",
    "data[numerical_columns] = (data[numerical_columns] - data[numerical_columns].min()) / (data[numerical_columns].max() - data[numerical_columns].min())"
   ]
  },
  {
   "cell_type": "code",
   "execution_count": 8,
   "metadata": {
    "id": "Ib3dMbra7KcK"
   },
   "outputs": [
    {
     "data": {
      "text/html": [
       "<div>\n",
       "<style scoped>\n",
       "    .dataframe tbody tr th:only-of-type {\n",
       "        vertical-align: middle;\n",
       "    }\n",
       "\n",
       "    .dataframe tbody tr th {\n",
       "        vertical-align: top;\n",
       "    }\n",
       "\n",
       "    .dataframe thead th {\n",
       "        text-align: right;\n",
       "    }\n",
       "</style>\n",
       "<table border=\"1\" class=\"dataframe\">\n",
       "  <thead>\n",
       "    <tr style=\"text-align: right;\">\n",
       "      <th></th>\n",
       "      <th>Survived</th>\n",
       "      <th>Pclass</th>\n",
       "      <th>Sex</th>\n",
       "      <th>Age</th>\n",
       "      <th>SibSp</th>\n",
       "      <th>Parch</th>\n",
       "      <th>Fare</th>\n",
       "    </tr>\n",
       "  </thead>\n",
       "  <tbody>\n",
       "    <tr>\n",
       "      <th>0</th>\n",
       "      <td>0</td>\n",
       "      <td>3</td>\n",
       "      <td>male</td>\n",
       "      <td>0.271174</td>\n",
       "      <td>0.125</td>\n",
       "      <td>0.0</td>\n",
       "      <td>0.014151</td>\n",
       "    </tr>\n",
       "    <tr>\n",
       "      <th>1</th>\n",
       "      <td>1</td>\n",
       "      <td>1</td>\n",
       "      <td>female</td>\n",
       "      <td>0.472229</td>\n",
       "      <td>0.125</td>\n",
       "      <td>0.0</td>\n",
       "      <td>0.139136</td>\n",
       "    </tr>\n",
       "    <tr>\n",
       "      <th>2</th>\n",
       "      <td>1</td>\n",
       "      <td>3</td>\n",
       "      <td>female</td>\n",
       "      <td>0.321438</td>\n",
       "      <td>0.000</td>\n",
       "      <td>0.0</td>\n",
       "      <td>0.015469</td>\n",
       "    </tr>\n",
       "    <tr>\n",
       "      <th>3</th>\n",
       "      <td>1</td>\n",
       "      <td>1</td>\n",
       "      <td>female</td>\n",
       "      <td>0.434531</td>\n",
       "      <td>0.125</td>\n",
       "      <td>0.0</td>\n",
       "      <td>0.103644</td>\n",
       "    </tr>\n",
       "    <tr>\n",
       "      <th>4</th>\n",
       "      <td>0</td>\n",
       "      <td>3</td>\n",
       "      <td>male</td>\n",
       "      <td>0.434531</td>\n",
       "      <td>0.000</td>\n",
       "      <td>0.0</td>\n",
       "      <td>0.015713</td>\n",
       "    </tr>\n",
       "  </tbody>\n",
       "</table>\n",
       "</div>"
      ],
      "text/plain": [
       "   Survived  Pclass     Sex       Age  SibSp  Parch      Fare\n",
       "0         0       3    male  0.271174  0.125    0.0  0.014151\n",
       "1         1       1  female  0.472229  0.125    0.0  0.139136\n",
       "2         1       3  female  0.321438  0.000    0.0  0.015469\n",
       "3         1       1  female  0.434531  0.125    0.0  0.103644\n",
       "4         0       3    male  0.434531  0.000    0.0  0.015713"
      ]
     },
     "execution_count": 8,
     "metadata": {},
     "output_type": "execute_result"
    }
   ],
   "source": [
    "# Let's see what our normalization did! Do you remember which function we used to look at the data frame?\n",
    "data.head()"
   ]
  },
  {
   "cell_type": "markdown",
   "metadata": {
    "id": "6bQm0jZ6HDdv"
   },
   "source": [
    "Amazing! As we can now see, all of the numerical variables are now between 0 and 1. Next, we need to encode our categorical variable since most machine learning algorithms are designed to operate on numerical data. A categorical variable is a type of information that puts things into different groups. It's like sorting things based on their qualities or characteristics. For example, you can sort animals into categories like \"mammals\", \"birds\", or \"reptiles.\" Categorical variables don't have number; they just have different labels or names for each group. Learn more about label and one hot encoding [here](https://www.youtube.com/watch?v=589nCGeWG1w)."
   ]
  },
  {
   "cell_type": "code",
   "execution_count": 9,
   "metadata": {
    "id": "2UxwjP3HHiuH"
   },
   "outputs": [
    {
     "data": {
      "text/plain": [
       "array(['male', 'female'], dtype=object)"
      ]
     },
     "execution_count": 9,
     "metadata": {},
     "output_type": "execute_result"
    }
   ],
   "source": [
    "# Let's see the options for Sex\n",
    "data['Sex'].unique()"
   ]
  },
  {
   "cell_type": "markdown",
   "metadata": {
    "id": "LXyapneoHqwN"
   },
   "source": [
    "As we can see, there are only two options for Sex so we will be using Label encoding. We can also see that the other categorical variables like Survived and Pclass have already been label encoded for us, so we don't need to do further preprocessing with those features."
   ]
  },
  {
   "cell_type": "code",
   "execution_count": 10,
   "metadata": {
    "id": "5g1daoQMH-WE"
   },
   "outputs": [
    {
     "data": {
      "text/html": [
       "<div>\n",
       "<style scoped>\n",
       "    .dataframe tbody tr th:only-of-type {\n",
       "        vertical-align: middle;\n",
       "    }\n",
       "\n",
       "    .dataframe tbody tr th {\n",
       "        vertical-align: top;\n",
       "    }\n",
       "\n",
       "    .dataframe thead th {\n",
       "        text-align: right;\n",
       "    }\n",
       "</style>\n",
       "<table border=\"1\" class=\"dataframe\">\n",
       "  <thead>\n",
       "    <tr style=\"text-align: right;\">\n",
       "      <th></th>\n",
       "      <th>Survived</th>\n",
       "      <th>Pclass</th>\n",
       "      <th>Sex</th>\n",
       "      <th>Age</th>\n",
       "      <th>SibSp</th>\n",
       "      <th>Parch</th>\n",
       "      <th>Fare</th>\n",
       "    </tr>\n",
       "  </thead>\n",
       "  <tbody>\n",
       "    <tr>\n",
       "      <th>0</th>\n",
       "      <td>0</td>\n",
       "      <td>3</td>\n",
       "      <td>1</td>\n",
       "      <td>0.271174</td>\n",
       "      <td>0.125</td>\n",
       "      <td>0.0</td>\n",
       "      <td>0.014151</td>\n",
       "    </tr>\n",
       "    <tr>\n",
       "      <th>1</th>\n",
       "      <td>1</td>\n",
       "      <td>1</td>\n",
       "      <td>0</td>\n",
       "      <td>0.472229</td>\n",
       "      <td>0.125</td>\n",
       "      <td>0.0</td>\n",
       "      <td>0.139136</td>\n",
       "    </tr>\n",
       "    <tr>\n",
       "      <th>2</th>\n",
       "      <td>1</td>\n",
       "      <td>3</td>\n",
       "      <td>0</td>\n",
       "      <td>0.321438</td>\n",
       "      <td>0.000</td>\n",
       "      <td>0.0</td>\n",
       "      <td>0.015469</td>\n",
       "    </tr>\n",
       "    <tr>\n",
       "      <th>3</th>\n",
       "      <td>1</td>\n",
       "      <td>1</td>\n",
       "      <td>0</td>\n",
       "      <td>0.434531</td>\n",
       "      <td>0.125</td>\n",
       "      <td>0.0</td>\n",
       "      <td>0.103644</td>\n",
       "    </tr>\n",
       "    <tr>\n",
       "      <th>4</th>\n",
       "      <td>0</td>\n",
       "      <td>3</td>\n",
       "      <td>1</td>\n",
       "      <td>0.434531</td>\n",
       "      <td>0.000</td>\n",
       "      <td>0.0</td>\n",
       "      <td>0.015713</td>\n",
       "    </tr>\n",
       "  </tbody>\n",
       "</table>\n",
       "</div>"
      ],
      "text/plain": [
       "   Survived  Pclass  Sex       Age  SibSp  Parch      Fare\n",
       "0         0       3    1  0.271174  0.125    0.0  0.014151\n",
       "1         1       1    0  0.472229  0.125    0.0  0.139136\n",
       "2         1       3    0  0.321438  0.000    0.0  0.015469\n",
       "3         1       1    0  0.434531  0.125    0.0  0.103644\n",
       "4         0       3    1  0.434531  0.000    0.0  0.015713"
      ]
     },
     "execution_count": 10,
     "metadata": {},
     "output_type": "execute_result"
    }
   ],
   "source": [
    "# Initialize the label encoder\n",
    "label_encoder = LabelEncoder()\n",
    "\n",
    "# Fit and transform the target data using label encoding\n",
    "data['Sex'] = label_encoder.fit_transform(data['Sex'])\n",
    "\n",
    "# Let's check what the dataframe looks like now!\n",
    "data.head()"
   ]
  },
  {
   "cell_type": "markdown",
   "metadata": {
    "id": "mczXyF5zX02A"
   },
   "source": [
    "Next, we want to drop NaN values (Not a Number). NaN values often indicate missing or incomplete data. Inaccurate or incomplete data can often lead to biased or incorrect analysis results or machine learning model predictions. By removing rows or columns with NaN values, you improve the overall quality and integrity of your dataset."
   ]
  },
  {
   "cell_type": "code",
   "execution_count": 11,
   "metadata": {
    "id": "7zjPgqi8Yw8C"
   },
   "outputs": [
    {
     "name": "stdout",
     "output_type": "stream",
     "text": [
      "Number of rows before dropping: 891\n",
      "Number of rows after dropping: 714\n"
     ]
    },
    {
     "data": {
      "text/html": [
       "<div>\n",
       "<style scoped>\n",
       "    .dataframe tbody tr th:only-of-type {\n",
       "        vertical-align: middle;\n",
       "    }\n",
       "\n",
       "    .dataframe tbody tr th {\n",
       "        vertical-align: top;\n",
       "    }\n",
       "\n",
       "    .dataframe thead th {\n",
       "        text-align: right;\n",
       "    }\n",
       "</style>\n",
       "<table border=\"1\" class=\"dataframe\">\n",
       "  <thead>\n",
       "    <tr style=\"text-align: right;\">\n",
       "      <th></th>\n",
       "      <th>Survived</th>\n",
       "      <th>Pclass</th>\n",
       "      <th>Sex</th>\n",
       "      <th>Age</th>\n",
       "      <th>SibSp</th>\n",
       "      <th>Parch</th>\n",
       "      <th>Fare</th>\n",
       "    </tr>\n",
       "  </thead>\n",
       "  <tbody>\n",
       "    <tr>\n",
       "      <th>0</th>\n",
       "      <td>0</td>\n",
       "      <td>3</td>\n",
       "      <td>1</td>\n",
       "      <td>0.271174</td>\n",
       "      <td>0.125</td>\n",
       "      <td>0.0</td>\n",
       "      <td>0.014151</td>\n",
       "    </tr>\n",
       "    <tr>\n",
       "      <th>1</th>\n",
       "      <td>1</td>\n",
       "      <td>1</td>\n",
       "      <td>0</td>\n",
       "      <td>0.472229</td>\n",
       "      <td>0.125</td>\n",
       "      <td>0.0</td>\n",
       "      <td>0.139136</td>\n",
       "    </tr>\n",
       "    <tr>\n",
       "      <th>2</th>\n",
       "      <td>1</td>\n",
       "      <td>3</td>\n",
       "      <td>0</td>\n",
       "      <td>0.321438</td>\n",
       "      <td>0.000</td>\n",
       "      <td>0.0</td>\n",
       "      <td>0.015469</td>\n",
       "    </tr>\n",
       "    <tr>\n",
       "      <th>3</th>\n",
       "      <td>1</td>\n",
       "      <td>1</td>\n",
       "      <td>0</td>\n",
       "      <td>0.434531</td>\n",
       "      <td>0.125</td>\n",
       "      <td>0.0</td>\n",
       "      <td>0.103644</td>\n",
       "    </tr>\n",
       "    <tr>\n",
       "      <th>4</th>\n",
       "      <td>0</td>\n",
       "      <td>3</td>\n",
       "      <td>1</td>\n",
       "      <td>0.434531</td>\n",
       "      <td>0.000</td>\n",
       "      <td>0.0</td>\n",
       "      <td>0.015713</td>\n",
       "    </tr>\n",
       "  </tbody>\n",
       "</table>\n",
       "</div>"
      ],
      "text/plain": [
       "   Survived  Pclass  Sex       Age  SibSp  Parch      Fare\n",
       "0         0       3    1  0.271174  0.125    0.0  0.014151\n",
       "1         1       1    0  0.472229  0.125    0.0  0.139136\n",
       "2         1       3    0  0.321438  0.000    0.0  0.015469\n",
       "3         1       1    0  0.434531  0.125    0.0  0.103644\n",
       "4         0       3    1  0.434531  0.000    0.0  0.015713"
      ]
     },
     "execution_count": 11,
     "metadata": {},
     "output_type": "execute_result"
    }
   ],
   "source": [
    "# Show the number of rows before dropping NaN values\n",
    "rows_before = data.shape[0]\n",
    "print(\"Number of rows before dropping:\", rows_before)\n",
    "\n",
    "# Drop both rows and columns with NaN value\n",
    "data.dropna(inplace=True)\n",
    "\n",
    "# Show the number of rows after dropping NaN values\n",
    "rows_after = data.shape[0]\n",
    "print(\"Number of rows after dropping:\", rows_after)\n",
    "\n",
    "data.head()"
   ]
  },
  {
   "cell_type": "markdown",
   "metadata": {
    "id": "K8fsL91TIY3C"
   },
   "source": [
    "Train-Test Split: Split the preprocessed data into training and testing datasets. The training dataset is used to train the KNN model, and the testing dataset is used to evaluate its performance on unseen data. Learn more about why we split datasets into train and test [here](https://www.youtube.com/watch?v=dSCFk168vmo)."
   ]
  },
  {
   "cell_type": "code",
   "execution_count": 12,
   "metadata": {
    "id": "UetwZj1YIm95"
   },
   "outputs": [],
   "source": [
    "# Extract the feature data by removing the 'Survived' column. 'axis=1' indicates we are dropping a column\n",
    "X = data.drop('Survived', axis=1)\n",
    "\n",
    "# Assign the 'Survived' column (target variable) to the variable 'y'. This will be the value we aim to predict\n",
    "y = data['Survived']"
   ]
  },
  {
   "cell_type": "code",
   "execution_count": 13,
   "metadata": {
    "id": "AZOnjfufI4dH"
   },
   "outputs": [
    {
     "name": "stdout",
     "output_type": "stream",
     "text": [
      "     Pclass  Sex       Age  SibSp     Parch      Fare\n",
      "0         3    1  0.271174  0.125  0.000000  0.014151\n",
      "1         1    0  0.472229  0.125  0.000000  0.139136\n",
      "2         3    0  0.321438  0.000  0.000000  0.015469\n",
      "3         1    0  0.434531  0.125  0.000000  0.103644\n",
      "4         3    1  0.434531  0.000  0.000000  0.015713\n",
      "..      ...  ...       ...    ...       ...       ...\n",
      "885       3    0  0.484795  0.000  0.833333  0.056848\n",
      "886       2    1  0.334004  0.000  0.000000  0.025374\n",
      "887       1    0  0.233476  0.000  0.000000  0.058556\n",
      "889       1    1  0.321438  0.000  0.000000  0.058556\n",
      "890       3    1  0.396833  0.000  0.000000  0.015127\n",
      "\n",
      "[714 rows x 6 columns]\n"
     ]
    }
   ],
   "source": [
    "# You can see what X and y look like by simply using the print function\n",
    "print(X)"
   ]
  },
  {
   "cell_type": "code",
   "execution_count": 14,
   "metadata": {
    "id": "AmdSeadgI9jz"
   },
   "outputs": [],
   "source": [
    "# Try printing out y\n"
   ]
  },
  {
   "cell_type": "code",
   "execution_count": 15,
   "metadata": {
    "id": "O-2g1YUBMBlJ"
   },
   "outputs": [
    {
     "name": "stdout",
     "output_type": "stream",
     "text": [
      "X_train shape: (571, 6)\n",
      "X_test shape: (143, 6)\n",
      "y_train shape: (571,)\n",
      "y_test shape: (143,)\n"
     ]
    }
   ],
   "source": [
    "# Splitting the data into training and testing sets\n",
    "X_train, X_test, y_train, y_test = train_test_split(X, y, test_size=0.2, random_state=42)\n",
    "\n",
    "# Print the shapes of the resulting datasets\n",
    "print(\"X_train shape:\", X_train.shape)\n",
    "print(\"X_test shape:\", X_test.shape)\n",
    "print(\"y_train shape:\", y_train.shape)\n",
    "print(\"y_test shape:\", y_test.shape)"
   ]
  },
  {
   "cell_type": "markdown",
   "metadata": {
    "id": "1JrjclsjKO-w"
   },
   "source": [
    "## Training the Model"
   ]
  },
  {
   "cell_type": "markdown",
   "metadata": {
    "id": "_HrIn-MlJGXp"
   },
   "source": [
    "Training the K-Nearest Neighbors Model"
   ]
  },
  {
   "cell_type": "code",
   "execution_count": 16,
   "metadata": {
    "id": "lz8dyUexJIpV"
   },
   "outputs": [
    {
     "name": "stdout",
     "output_type": "stream",
     "text": [
      "Accuracy: 0.7622377622377622\n"
     ]
    }
   ],
   "source": [
    "# Set the value of 'k', which represents the number of neighbors to consider for each prediction\n",
    "# We set the default value of k to 5, but it can be almost any number\n",
    "k = 5\n",
    "\n",
    "# Create an instance of the KNN classifier\n",
    "knn = KNeighborsClassifier(n_neighbors=k)\n",
    "\n",
    "# Fit the KNN classifier to the training data\n",
    "knn.fit(X_train, y_train)\n",
    "\n",
    "# Make predictions on the testing data\n",
    "y_pred = knn.predict(X_test)\n",
    "\n",
    "# Evaluate the performance of the KNN model\n",
    "accuracy = accuracy_score(y_test, y_pred)\n",
    "print(\"Accuracy:\", accuracy)"
   ]
  },
  {
   "cell_type": "markdown",
   "metadata": {
    "id": "CLol9Lrtdchb"
   },
   "source": [
    "Graphing using Principal Component Analysis (PCA). PCA is a method to simplify complex data by focusing on essential patterns while reducing noise and dimensions. It helps visualize data and save space by identifying key directions (principal components) that capture the most variation. Use PCA when you need clearer insights from data with many features. Learn more about PCA [here](https://www.youtube.com/watch?v=HMOI_lkzW08&ab_channel=StatQuestwithJoshStarmer)."
   ]
  },
  {
   "cell_type": "code",
   "execution_count": 17,
   "metadata": {
    "id": "TFpSeJWfdb--"
   },
   "outputs": [
    {
     "data": {
      "image/png": "[encoded data removed]",
      "text/plain": [
       "<Figure size 432x288 with 1 Axes>"
      ]
     },
     "metadata": {
      "needs_background": "light"
     },
     "output_type": "display_data"
    }
   ],
   "source": [
    "pca = PCA(n_components=2)\n",
    "X_pca = pca.fit_transform(X)\n",
    "\n",
    "clf = KNeighborsClassifier(n_neighbors=k)\n",
    "clf.fit(X_pca, y)\n",
    "\n",
    "# Create a meshgrid to plot the decision boundary\n",
    "h = 0.02\n",
    "x_min, x_max = X_pca[:, 0].min() - 0.1, X_pca[:, 0].max() + 0.1\n",
    "y_min, y_max = X_pca[:, 1].min() - 0.1, X_pca[:, 1].max() + 0.1\n",
    "xx, yy = np.meshgrid(np.arange(x_min, x_max, h), np.arange(y_min, y_max, h))\n",
    "\n",
    "# Predict on the meshgrid\n",
    "Z = clf.predict(np.c_[xx.ravel(), yy.ravel()])\n",
    "Z = Z.reshape(xx.shape)\n",
    "\n",
    "# Plot the decision boundary\n",
    "plt.contourf(xx, yy, Z, alpha=0.8, cmap=plt.cm.Paired)\n",
    "plt.scatter(X_pca[:, 0], X_pca[:, 1], c=y, edgecolors='k', cmap=plt.cm.Paired)\n",
    "plt.xlabel('Principal Component 1')\n",
    "plt.ylabel('Principal Component 2')\n",
    "plt.title(f'KNN Decision Boundary (k={k}) - PCA Reduced')\n",
    "plt.show()"
   ]
  },
  {
   "cell_type": "markdown",
   "metadata": {
    "id": "TpIh6mjx4PoN"
   },
   "source": [
    "This graph visually represents how the KNN classifier's decision boundary looks in the reduced two-dimensional space obtained through PCA. It shows how the classifier separates the classes based on the reduced features, and the scatter plot provides insight into the distribution of the original data points and their assigned classes."
   ]
  },
  {
   "cell_type": "markdown",
   "metadata": {
    "id": "-QEhXqOkZM2q"
   },
   "source": [
    "We will now compare different neighbor sizes using a loop. By testing the model with varying numbers of neighbors, we can find the optimal value that leads to accurate predictions. The loop iterates through different neighbor values and evaluates accuracy, a metric that measures how well the model predicts outcomes."
   ]
  },
  {
   "cell_type": "code",
   "execution_count": 18,
   "metadata": {
    "id": "RCzPD5AJZQJg"
   },
   "outputs": [],
   "source": [
    "# Define a range of values for the number of neighbors\n",
    "neighbors = np.arange(1, 100)\n",
    "\n",
    "# Initialize an empty list to store accuracy scores\n",
    "accuracy_scores = []\n",
    "\n",
    "# Iterate over different values of neighbors\n",
    "for n in neighbors:\n",
    "    # Create an instance of the KNN classifier with the current number of neighbors\n",
    "    knn = KNeighborsClassifier(n_neighbors=n)\n",
    "\n",
    "    # Fit the KNN classifier to the training data\n",
    "    knn.fit(X_train, y_train)\n",
    "\n",
    "    # Make predictions on the testing data\n",
    "    y_pred = knn.predict(X_test)\n",
    "\n",
    "    # Compute the accuracy score and append it to the list\n",
    "    accuracy = accuracy_score(y_test, y_pred)\n",
    "    accuracy_scores.append(accuracy)"
   ]
  },
  {
   "cell_type": "code",
   "execution_count": 19,
   "metadata": {
    "id": "jCwUMKQLZS-C"
   },
   "outputs": [
    {
     "data": {
      "image/png": "[encoded data removed]",
      "text/plain": [
       "<Figure size 432x288 with 1 Axes>"
      ]
     },
     "metadata": {
      "needs_background": "light"
     },
     "output_type": "display_data"
    }
   ],
   "source": [
    "# Plot the accuracy scores\n",
    "plt.plot(neighbors, accuracy_scores)\n",
    "plt.xlabel('Number of Neighbors')\n",
    "plt.ylabel('Accuracy')\n",
    "plt.title('Accuracy vs. Number of Neighbors')\n",
    "plt.show()"
   ]
  },
  {
   "cell_type": "markdown",
   "metadata": {
    "id": "zPMffCQozPfV"
   },
   "source": [
    "## Experimenting and Improving"
   ]
  },
  {
   "cell_type": "markdown",
   "metadata": {
    "id": "S3kaT9Ujblwk"
   },
   "source": [
    "Let's try improving our model's accuracy by experimenting with different numbers of neighbors. Duplicate the cell below twice, and change the k value to 1, 8, 20, and 85. Run each cell and compare the accuracy of the model at different k values. How does the k value influence how accurate the model is?"
   ]
  },
  {
   "cell_type": "code",
   "execution_count": 20,
   "metadata": {
    "id": "pwagWE4gzRW1"
   },
   "outputs": [
    {
     "name": "stdout",
     "output_type": "stream",
     "text": [
      "Accuracy: 0.7622377622377622\n"
     ]
    }
   ],
   "source": [
    "# Set the value of 'k', which represents the number of neighbors to consider for each prediction\n",
    "k = 5\n",
    "\n",
    "# Create an instance of the KNN classifier\n",
    "knn = KNeighborsClassifier(n_neighbors=k)\n",
    "\n",
    "# Fit the KNN classifier to the training data\n",
    "knn.fit(X_train, y_train)\n",
    "\n",
    "# Make predictions on the testing data\n",
    "y_pred = knn.predict(X_test)\n",
    "\n",
    "# Evaluate the performance of the KNN model\n",
    "accuracy = accuracy_score(y_test, y_pred)\n",
    "print(\"Accuracy:\", accuracy)"
   ]
  }
 ],
 "metadata": {
  "colab": {
   "provenance": []
  },
  "kernelspec": {
   "display_name": "Python 3",
   "language": "python",
   "name": "python3"
  },
  "language_info": {
   "codemirror_mode": {
    "name": "ipython",
    "version": 3
   },
   "file_extension": ".py",
   "mimetype": "text/x-python",
   "name": "python",
   "nbconvert_exporter": "python",
   "pygments_lexer": "ipython3",
   "version": "3.8.8"
  }
 },
 "nbformat": 4,
 "nbformat_minor": 1
}
